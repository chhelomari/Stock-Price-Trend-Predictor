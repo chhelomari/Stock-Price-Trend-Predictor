#  Stock Price Predictor using Linear Regression

import pandas as pd
import numpy as np
import matplotlib.pyplot as plt
from sklearn.linear_model import LinearRegression
from datetime import timedelta

# Load stock data
df = pd.read_csv("stock_data.csv")
df['Date'] = pd.to_datetime(df['Date'])
df = df.sort_values('Date')

# Convert date to numeric day count
df['Day'] = (df['Date'] - df['Date'].min()).dt.days
X = df[['Day']]
y = df['Close']

# Train linear regression model
model = LinearRegression()
model.fit(X, y)

# Predict next 5 days
last_day = df['Day'].max()
future_days = np.array([last_day + i for i in range(1, 6)]).reshape(-1, 1)
future_dates = [df['Date'].max() + timedelta(days=i) for i in range(1, 6)]
future_preds = model.predict(future_days)

# Create DataFrame for future predictions
future_df = pd.DataFrame({
    'Date': future_dates,
    'Predicted_Close': future_preds
})

# Plot actual vs predicted
plt.figure(figsize=(10, 5))
plt.plot(df['Date'], y, label='Actual', marker='o')
plt.plot(future_df['Date'], future_preds, label='Predicted', marker='x', linestyle='--')
plt.xlabel("Date")
plt.ylabel("Stock Close Price")
plt.title("Stock Price Prediction (Linear Regression)")
plt.legend()
plt.grid(True)
plt.tight_layout()
plt.show()

# Show predictions
print(" Predicted Stock Prices for Next 5 Days:")
print(future_df)
